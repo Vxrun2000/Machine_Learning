{
 "cells": [
  {
   "cell_type": "code",
   "execution_count": 3,
   "id": "f24b48be-f51b-47c4-a588-25465e422e9b",
   "metadata": {},
   "outputs": [],
   "source": [
    "import numpy as np\n",
    "import pandas as pd\n",
    "import math"
   ]
  },
  {
   "cell_type": "code",
   "execution_count": 6,
   "id": "8eb3faf4-b167-403f-802f-141ea7c70cf9",
   "metadata": {},
   "outputs": [
    {
     "name": "stdout",
     "output_type": "stream",
     "text": [
      "m = 1.9783600000000003, b = 0.027960000000000002, cost = 5199.1, iterations = 1000000\n",
      "Using gradient descent : Coefficient = 3.9567200000000007 , Intercept = 0.055920000000000004 \n"
     ]
    }
   ],
   "source": [
    "def grad_desc(x,y):\n",
    "    n = len(x)\n",
    "    m_curr = b_curr = 0\n",
    "    y_pred = m_curr * x + b_curr\n",
    "    iter = 1000000\n",
    "    l_rate = 0.0002\n",
    "    cost_previous = 0\n",
    "\n",
    "    for i in range(iter):\n",
    "        cost_function = (1/n) * sum([val**2 for val in (y - y_pred)])\n",
    "        dm = (2/n) * sum((-x) * (y - y_pred))\n",
    "        db = (2/n) * sum(-(y - y_pred))\n",
    "        m_curr = m_curr - l_rate * dm\n",
    "        b_curr = b_curr - l_rate * db\n",
    "        if math.isclose(cost_function,cost_previous,rel_tol = 1e-20):\n",
    "            break\n",
    "        cost_previous = cost_function\n",
    "        print('m = {}, b = {}, cost = {}, iterations = {}'.format(m_curr, b_curr, cost_function, iter))\n",
    "\n",
    "    return m_curr, b_curr\n",
    "\n",
    "if __name__ == \"__main__\":\n",
    "    df = pd.read_csv('test_scores.csv')\n",
    "    x = np.array(df.math)\n",
    "    y = np.array(df.cs)\n",
    "    m,b = grad_desc(x,y)\n",
    "\n",
    "    print('Using gradient descent : Coefficient = {} , Intercept = {} '.format(m,b))\n",
    "\n",
    "\n",
    "\n",
    "\n",
    "\n",
    "            \n",
    "        \n",
    "    \n",
    "    \n",
    "    \n",
    "    "
   ]
  },
  {
   "cell_type": "code",
   "execution_count": 12,
   "id": "ec7aef61-509e-49e8-af16-c72186155d28",
   "metadata": {},
   "outputs": [],
   "source": [
    "from sklearn.linear_model import LinearRegression\n",
    "\n",
    "    "
   ]
  },
  {
   "cell_type": "code",
   "execution_count": 17,
   "id": "ab8da06f-5813-4608-b9ca-c6ecb4aff86f",
   "metadata": {},
   "outputs": [
    {
     "name": "stdout",
     "output_type": "stream",
     "text": [
      "Using sklearn : Coeffiecient = [1.01773624] , Intercept = 1.9152193111569176\n"
     ]
    }
   ],
   "source": [
    "def using_sklearn():\n",
    "    df = pd.read_csv('test_scores.csv')\n",
    "    r = LinearRegression()\n",
    "    r.fit(df[['math']], df.cs)\n",
    "    return r.coef_, r.intercept_\n",
    "\n",
    "if __name__ == '__main__':\n",
    "    df = pd.read_csv('test_scores.csv')\n",
    "    x = np.array(df.math)\n",
    "    y = np.array(df.cs)\n",
    "    m_sk, y_sk = using_sklearn()\n",
    "\n",
    "\n",
    "    print('Using sklearn : Coeffiecient = {} , Intercept = {}'.format(m_sk, y_sk))"
   ]
  },
  {
   "cell_type": "code",
   "execution_count": null,
   "id": "b6cfe51d-3169-4742-b842-153d7623c35e",
   "metadata": {},
   "outputs": [],
   "source": []
  }
 ],
 "metadata": {
  "kernelspec": {
   "display_name": "Python 3 (ipykernel)",
   "language": "python",
   "name": "python3"
  },
  "language_info": {
   "codemirror_mode": {
    "name": "ipython",
    "version": 3
   },
   "file_extension": ".py",
   "mimetype": "text/x-python",
   "name": "python",
   "nbconvert_exporter": "python",
   "pygments_lexer": "ipython3",
   "version": "3.11.7"
  }
 },
 "nbformat": 4,
 "nbformat_minor": 5
}
